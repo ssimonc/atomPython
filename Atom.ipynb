{
 "cells": [
  {
   "cell_type": "markdown",
   "metadata": {},
   "source": [
    "# ATOM : an Artificial Trading Open Market\n",
    "\n",
    "Authors : Rémi Morvan & Philippe Mathieu [CRISTAL Lab](http://www.cristal.univ-lille.fr), [SMAC team](https://www.cristal.univ-lille.fr/?rubrique27&eid=17), [Lille University](http://www.univ-lille.fr)\n",
    "\n",
    "email : philippe.mathieu at univ-lille.fr\n",
    "\n",
    "Date : 2018\n",
    "\n",
    "# General principles\n",
    "ATOM is an order-driven financial market model in which artificial trading agents can interact. In particular, it allows to see the consequences of executing series of orders, to test specific traders behaviours or to test market regulation rules. ATOM is based on multi-agent technology, a branch of AI studying the interactions between artificial entities and their interactions. ATOM can manage thousands of agents simultaneously on a multi-option market with a double order book such as Euronext or NYSE.\n",
    "\n",
    "The loading of the ATOM library is very classically done by an import. It is generally preferable to load different libraries at the same time (notably numpy, random and statsmodels as well as matplotlib for the graphical charts) allowing the analysis of the different data produced."
   ]
  },
  {
   "cell_type": "code",
   "execution_count": null,
   "metadata": {},
   "outputs": [],
   "source": [
    "from atom import *\n",
    "from data_processing import *\n",
    "import numpy as np\n",
    "import random\n",
    "import statsmodels.tsa.stattools as stats\n",
    "import matplotlib.pyplot as plt\n",
    "plt.rcParams['figure.figsize'] = (15,10)"
   ]
  },
  {
   "cell_type": "markdown",
   "metadata": {},
   "source": [
    "## Getting Started"
   ]
  },
  {
   "cell_type": "markdown",
   "metadata": {},
   "source": [
    "Before any experiment, a market must be created. To create a market, simply instantiate the class `Market(assets)`, where `assets` contains the list of assets handled by the market. By default, there are two types of agents:\n",
    "* Dumb agents, which send no orders except those they are asked to send.\n",
    "* `ZIT`s, which send, each time they have the chance to speak, a random order, the price of which is uniformly drawn between 1000 and 9999 and the quantity between 1 and 9.\n",
    "\n",
    "In order to create an agent, it is given the market reference by passing it to the constructor. Once the agent has been created, the market is told the name of the new agent using the `add_trader` method.\n",
    "\n",
    "### Dumb Agents\n",
    "\n",
    "The user cannot speak directly to the market. Only agents talk to the market. A dumb agent is a simple intermediary between us and the market so that we can send an order if we want to. To do this, the dumb agent has a `send_order` method that takes an order and the market into which send it as parameters.\n",
    "\n",
    "The most standard order in order-driven markets is the limit order, consisting of a quintuplet, which is created using the `LimitOrder(asset, source, direction, price, qty)` class."
   ]
  },
  {
   "cell_type": "code",
   "execution_count": null,
   "metadata": {},
   "outputs": [],
   "source": [
    "m = Market(['Apple', 'Google']) # Create a market whose assets are 'Apple' and 'Google'.\n",
    "t = DumbAgent(m, name='pauline') # Create a dumb agent\n",
    "m.add_trader(t) # Adds dumb agent to the market\n",
    "\n",
    "t.send_order(LimitOrder('Apple', t, 'ASK', 5000, 10), m)\n",
    "# The dumb agent sent the market an order to sell 10 shares of Apple stock at $5,000.\n",
    "t.send_order(LimitOrder('Apple', t, 'BID', 6000, 5), m)\n",
    "# The dumb agent sent the market an order to buy 5 Apple shares at 6000..."
   ]
  },
  {
   "cell_type": "markdown",
   "metadata": {},
   "source": [
    "### Trace\n",
    "Atom can provide a trace of all operations performed during execution. This makes it possible to see precisely which operations are performed by the agents and the consequences of these different operations. The first lines (starting with '#') of this trace specify the syntax used.\n",
    "* The LimitOrder and CancelMyOrders lines are displayed when an order (LimitOrder or CancelMyOrders) has been sent.\n",
    "* Tick lines represent the end of a tick \n",
    "* Price lines are displayed when a price is fixed (long fixing)\n",
    "* NewAgent lines are displayed when an agent is added to the market\n",
    "* The Agent lines are displayed when an agent has its cash or quantity of shares modified\n",
    "* AgentWealth lines correspond to the agents wealth\n",
    "\n",
    "This trace can be directed to different outputs (screen, file, no trace) using the parameter `out` , when the market is created:\n",
    "* If nothing is specified, the trace is displayed in the console.\n",
    "* If `out = None`, nothing is displayed\n",
    "* If `out = FileObject`, the trace is displayed in a file. If you use this method, it is imperative to remember to close the file after you finish writing to it."
   ]
  },
  {
   "cell_type": "code",
   "execution_count": null,
   "metadata": {},
   "outputs": [],
   "source": [
    "file = open('trace.dat', 'w') # open the trace.dat file in write mode\n",
    "\n",
    "m = Market(['Apple'], out=file) # give the file to the market\n",
    "t = DumbAgent(m)\n",
    "m.add_trader(t)\n",
    "t.send_order(LimitOrder('Apple', t, 'ASK', 5000, 10), m)\n",
    "\n",
    "file.close() # close the file."
   ]
  },
  {
   "cell_type": "markdown",
   "metadata": {},
   "source": [
    "A `print_state()` method, provided by market, displays a summary of the market, including: the number of orders received, the number of prices set and the number of pending ASK and BID orders."
   ]
  },
  {
   "cell_type": "code",
   "execution_count": null,
   "metadata": {},
   "outputs": [],
   "source": [
    "m = Market(['Apple'])\n",
    "t = DumbAgent(m, name='paul')\n",
    "m.add_trader(t)\n",
    "t.send_order(LimitOrder('Apple', t, 'ASK', 5000, 10), m)\n",
    "t.send_order(LimitOrder('Apple', t, 'BID', 6000, 5), m)\n",
    "m.print_state()"
   ]
  },
  {
   "cell_type": "markdown",
   "metadata": {},
   "source": [
    "### Exercise\n",
    "By default this agent has nothing. `cash` to zero and assets to zero for all securities.\n",
    "Repeat the experiment with 10000 cash and 100 Apple securities.\n"
   ]
  },
  {
   "cell_type": "markdown",
   "metadata": {},
   "source": [
    "### ZITs\n",
    "\n",
    "ZITs can be created in the same way as dumb agents, using the `ZITTrader(m)` class. Unlike dumb agents, ZIT traders are completely autonomous. Once ZITs are created and added to the market, one can use the market method `run_once()`, which gives each agent a  round of speech once on each asset. The market decides the sequence of speeches, so no one has an advantage. Two executions can therefore give 2 different speeches. In order to be able to identify them, the ZITs have a name with a number.\n"
   ]
  },
  {
   "cell_type": "code",
   "execution_count": null,
   "metadata": {},
   "outputs": [],
   "source": [
    "m = Market(['Apple'])\n",
    "m.add_trader(ZITTrader(m))\n",
    "m.add_trader(ZITTrader(m))\n",
    "m.run_once()"
   ]
  },
  {
   "cell_type": "markdown",
   "metadata": {},
   "source": [
    "In order to facilitate the creation of a large number of agents, the marketplace provides the `generate(nb_ZIT, nb_turn)` method, which creates nb ZITS automatically, adds them to the marketplace, and executes nb_turn lapses. The previous code is therefore equivalent to the following code:"
   ]
  },
  {
   "cell_type": "code",
   "execution_count": null,
   "metadata": {},
   "outputs": [],
   "source": [
    "m = Market(['Apple'])\n",
    "m.generate(2, 1)"
   ]
  },
  {
   "cell_type": "markdown",
   "metadata": {},
   "source": [
    "### To go further...\n",
    "\n",
    "Finally, all agents have two optional parameters:\n",
    "* ``initial_assets``, which is a list of the same size as the list of assets in the market, and contains all the assets the agents have. If nothing is specified, it is assumed to be a list filled with zeros.\n",
    "* ``cash``, which is the initial cash available to the agent and is 0 if nothing is specified.\n",
    "\n",
    "For example, if `m = Market(['Apple', 'Google'])`, then the command `m.add_trader(ZITTrader(m, [5, 10], 5000))` adds to the market a ZIT that initially has 5000 cash, 5 shares of Apple and 10 shares of Google.\n",
    "\n",
    "The `generate` method has two parameters `init_assets` and `init_cash`, which are both integers. Each ZIT is then created with an initial cash equal to `init_cash' and with `init_assets' shares for each asset.\n",
    "\n",
    "In addition, the market has an optional `fix' parameter, which is set to `'L'` by default (long fixing), and can also be set to `'S'` (short fixing).\n",
    "\n",
    "Finally, the market can be given a `trace' parameter, which can be set to the following values:\n",
    "* `'all'': all information is written to the trace, even order books.\n",
    "* ``all except orderbooks`` (default): like `all`, but orderbooks are not written\n",
    "* a sub-list of `['order', 'tick', 'price', 'agent', 'new agent', 'wealth', 'orderbook']`: the values in this sub-list correspond to the types of information we want to see written in the trace.\n",
    "\n",
    "For example, if `trace=['price', 'wealth']`, then only the lines \"Price\" and \"AgentWealth\" will be written.\n"
   ]
  },
  {
   "cell_type": "code",
   "execution_count": null,
   "metadata": {
    "scrolled": true
   },
   "outputs": [],
   "source": [
    "m = Market(['Apple', 'Google'], trace='all')\n",
    "m.generate(2, 3, 10, 10000)\n",
    "m.print_state()\n",
    "# Created two ZITs, which will do three rounds of speech\n",
    "# and who initially have 10,000 in cash, 10 Apple shares and 10 Google shares..."
   ]
  },
  {
   "cell_type": "markdown",
   "metadata": {},
   "source": [
    "Orderbooks get displayed each time they are modified."
   ]
  },
  {
   "cell_type": "markdown",
   "metadata": {},
   "source": [
    "## Using the trace to display different curves"
   ]
  },
  {
   "cell_type": "code",
   "execution_count": null,
   "metadata": {},
   "outputs": [],
   "source": [
    "file = open('trace.dat', 'w')\n",
    "\n",
    "m = Market(['Apple', 'Google'], out=file)\n",
    "m.generate(3, 100, 10, 0)\n",
    "m.print_state()\n",
    "\n",
    "file.close()"
   ]
  },
  {
   "cell_type": "markdown",
   "metadata": {},
   "source": [
    "### Price display"
   ]
  },
  {
   "cell_type": "markdown",
   "metadata": {},
   "source": [
    "Prices can be extracted from the trace using the function `extract_prices', which takes a filename as input, and returns a dictionary whose keys are assets and values are tuples (T, P), with T the list of timestamps and P the list of corresponding prices (for a given asset).\n"
   ]
  },
  {
   "cell_type": "code",
   "execution_count": null,
   "metadata": {
    "scrolled": false
   },
   "outputs": [],
   "source": [
    "Prices = extract_prices('trace.dat')\n",
    "for asset in Prices.keys():\n",
    "    plt.plot(Prices[asset][0], Prices[asset][1], '-', label=asset)\n",
    "plt.legend(loc='best')\n",
    "plt.xlabel('Time')\n",
    "plt.ylabel('Price')\n",
    "plt.show()"
   ]
  },
  {
   "cell_type": "markdown",
   "metadata": {},
   "source": [
    "### Displaying the evolution of wealths"
   ]
  },
  {
   "cell_type": "markdown",
   "metadata": {},
   "source": [
    "At the end of a simulation, the wealth of an agent can be accessed with the `get_wealth' method (which takes the market as a parameter). For example, we can display the characteristics (with the `get_infos` method) of the richest and the poorest agent:"
   ]
  },
  {
   "cell_type": "code",
   "execution_count": null,
   "metadata": {},
   "outputs": [],
   "source": [
    "t_max = m.traders[0]\n",
    "t_min = m.traders[0]\n",
    "for t in m.traders: # We go through all the traders\n",
    "    if t.get_wealth(m) > t_max.get_wealth(m):\n",
    "        t_max = t\n",
    "    elif t.get_wealth(m) < t_max.get_wealth(m):\n",
    "        t_min = t\n",
    "print(\"Richest agent - \"+t_max.get_infos(m))\n",
    "print(\"Poorest agent - \"+t_min.get_infos(m))"
   ]
  },
  {
   "cell_type": "markdown",
   "metadata": {},
   "source": [
    "It is of course possible to display the evolution of the wealth of all the agents, by reading the trace: the function `extract_wealths` takes a filename as input and returns a dictionary whose keys are the agents and the values are lists (T, W) where T is the list of timestamps and W the list of the wealths of the agent."
   ]
  },
  {
   "cell_type": "code",
   "execution_count": null,
   "metadata": {},
   "outputs": [],
   "source": [
    "Wealth = extract_wealths('trace.dat')\n",
    "for agent in Wealth.keys():\n",
    "    T, W = Wealth[agent]\n",
    "    plt.plot(T, W, '-', label=agent)\n",
    "plt.legend(loc='best')\n",
    "plt.grid()\n",
    "plt.xlabel('Tick')\n",
    "plt.ylabel('Wealth')\n",
    "plt.show()"
   ]
  },
  {
   "cell_type": "markdown",
   "metadata": {},
   "source": [
    "### Displaying returns"
   ]
  },
  {
   "cell_type": "markdown",
   "metadata": {},
   "source": [
    "Thanks to the numpy library it becomes easy to display the sequence of returns (geometric or logarithmic): if $p_n$ is the $n$-th element of Prices, then\n",
    "> (Prices[1:]-Prices[:-1])/Prices[:-1] (resp. np.log(Prices[1:]) - np.log(Prices[:-1]))\n",
    "\n",
    "gives the sequence of $\\dfrac{p_{n+1}-p_n}{p_n}$ (resp. $\\ln(p_{n+1})-\\ln(p_n)$)."
   ]
  },
  {
   "cell_type": "code",
   "execution_count": null,
   "metadata": {},
   "outputs": [],
   "source": [
    "asset = 'Apple'\n",
    "Prices = np.array(extract_prices('trace.dat')[asset][1])\n",
    "Returns = (Prices[1:]-Prices[:-1])/Prices[:-1]\n",
    "Returns_eco = np.log(Prices[1:]) - np.log(Prices[:-1])\n",
    "plt.plot(Returns, '-', label=\"Returns (growth rate)\")\n",
    "plt.plot(Returns_eco, '-', label=\"Returns (log difference)\")\n",
    "plt.axhline(0, color='k')\n",
    "plt.ylabel('Return ('+asset+')')\n",
    "plt.legend(loc='best')\n",
    "plt.show()"
   ]
  },
  {
   "cell_type": "markdown",
   "metadata": {},
   "source": [
    "The histogram of the returns (defined as the log difference) can also be displayed. To do this, we have a `draw_returns_hist` function that takes as inputs the name of the file in which the trace is stored, the name of the asset for which we are going to calculate the returns, and a number of points. In return, we obtain a tuple (R, D, N) where R is a list of returns, D is the list of their densities and N is the density of the normal distribution of the same expectation and standard deviation. The function draws this histogram compared to the Gaussian of the same expectation and the same standard deviation."
   ]
  },
  {
   "cell_type": "code",
   "execution_count": null,
   "metadata": {},
   "outputs": [],
   "source": [
    "#WARNING: this block takes about 10sec to execute.\n",
    "\n",
    "# Here we use a market  with 10 agents during 10.000 rounds (so 100.000 orders sent to the market!)\n",
    "# It's better to have a lot of points, even if it's a bit long to calculate.\n",
    "file = open('trace.dat', 'w')\n",
    "asset = 'Apple\n",
    "m = Market([asset], out=file, trace=['price'])\n",
    "# We only write the prices in the trace, those are the only lines we need \n",
    "# and it saves a little bit of computing time\n",
    "m.generate(10, 10000)\n",
    "file.close()"
   ]
  },
  {
   "cell_type": "code",
   "execution_count": null,
   "metadata": {},
   "outputs": [],
   "source": [
    "draw_returns_hist('trace.dat', asset, 100)"
   ]
  },
  {
   "cell_type": "markdown",
   "metadata": {},
   "source": [
    "The stylized fact associated with profitability is well observed: compared to a Gaussian of the same expectation and standard deviation, there is a strong kurtosis (central peak of greater amplitude) and thicker tails.\n",
    "\n",
    "Note: Why choose the logarithmic difference rather than the rate of increase?\n",
    "Because the logarithmic difference has a nice property: if we go from a $p$ price to a $p'$ price, then the profitability will be $r_1 = \\log(p') - \\log(p)$; if we go from $p'$ to $p$, we have a profitability of $r_2 = log(p) - log(p') = -r_1$. This property is not verified by the rate of increase: if we limit ourselves to prices drawn between 1000 and 10000, the maximum rate of increase is 9, and the minimum rate of increase is $-0.9$. The distribution of returns defined as the rate of increase will therefore not be symmetrical.\n",
    "\n",
    "Note 2: This distinction is important because working with ZIT means that prices can be subject to sudden large variations. In a real market, these variations are small, so if we go from a $p$ price to a $p'$ price, we have $\\Delta(p) = |p'-p| << p$, so: $log(p') - log(p) = \\log\\left(1+\\dfrac{p'-p}{p}\\right) \\asim \\dfrac{p'-p}{p}$. So, in a real market, no matter which definition you choose, you'll get roughly the same result.\n"
   ]
  },
  {
   "cell_type": "markdown",
   "metadata": {},
   "source": [
    "### Histogram of profitability when prices are set randomly"
   ]
  },
  {
   "cell_type": "markdown",
   "metadata": {},
   "source": [
    "Some people sometimes think that the market follows a random walk. This small example shows that the stylized fact that one gets with an asynchronous order-book financial market like ATOM cannot be obtained simply with randomly set prices.\n",
    "To illustrate this, we will generate a false trace in which prices (500,000) are randomly set uniformly between 1 and 100."
   ]
  },
  {
   "cell_type": "code",
   "execution_count": null,
   "metadata": {},
   "outputs": [],
   "source": [
    "# We create our own randomly priced trace \n",
    "out = open('fake_trace.dat', 'w')\n",
    "t0 = int(time.time()*1000000)\n",
    "for i in range(5000000):\n",
    "    out.write(\"Price;Apple;Agent 0;Agent 0;%i;1;%i\\n\" % (random.randint(1000, 9999), int(time.time()*1000000)-t0))\n",
    "out.close()"
   ]
  },
  {
   "cell_type": "markdown",
   "metadata": {},
   "source": [
    "In the same way as above, the profitability histogram gets displayed."
   ]
  },
  {
   "cell_type": "code",
   "execution_count": null,
   "metadata": {},
   "outputs": [],
   "source": [
    "draw_returns_hist('fake_trace.dat', 'Apple', 100)"
   ]
  },
  {
   "cell_type": "markdown",
   "metadata": {},
   "source": [
    "It can be noticed that we no longer observe a kind of Gaussian with a big peak and thick tails, but, near the centre, two half-lines which at the ends have a tail that is not as thick as the Gaussian. The prices set by an order-book system are therefore clearly not of the same structure as a simple random draw, even if the agents themselves only make random choices."
   ]
  },
  {
   "cell_type": "markdown",
   "metadata": {},
   "source": [
    "### Displaying the autocorrelation of returns"
   ]
  },
  {
   "cell_type": "code",
   "execution_count": null,
   "metadata": {},
   "outputs": [],
   "source": [
    "Prices = np.array(extract_prices('trace.dat')[asset][1])\n",
    "Returns = np.log(Prices[1:]) - np.log(Prices[:-1])\n",
    "acf = stats.acf(Returns, nlags=20)\n",
    "plt.plot(range(21), acf, 'o', color=\"orange\")\n",
    "plt.bar([x+0.02 for x in range(21)], acf, .04, color=\"orange\")\n",
    "plt.axhline(0, color='k')\n",
    "sigma = max(np.abs(acf[10:]))\n",
    "plt.axhline(sigma, color='k', linestyle='--')\n",
    "plt.axhline(-sigma, color='k', linestyle='--')\n",
    "plt.xlabel('Lag')\n",
    "plt.ylabel('Autocorrelation')\n",
    "plt.show()"
   ]
  },
  {
   "cell_type": "markdown",
   "metadata": {},
   "source": [
    "## Using replay"
   ]
  },
  {
   "cell_type": "markdown",
   "metadata": {},
   "source": [
    "ATOM can also be used as a flow-replayer, using the `replay' method of the market. The content of this type of file is exactly the same as an ATOM trace file, but replay only reads agent creations and orders sent (the \"NewAgent\" and \"Order\" lines).\n",
    "It is therefore possible to generate a trace with `generate' and replay the resulting file with `replay'. As you can see, ATOM offers a virtuous circle."
   ]
  },
  {
   "cell_type": "code",
   "execution_count": null,
   "metadata": {
    "scrolled": true
   },
   "outputs": [],
   "source": [
    "m = Market(['LVMH'], trace=['price'])\n",
    "m.replay('orderFileEx1.dat')\n",
    "m.print_state()"
   ]
  },
  {
   "cell_type": "markdown",
   "metadata": {},
   "source": [
    "We'll see what happens if we choose the short fixing."
   ]
  },
  {
   "cell_type": "code",
   "execution_count": null,
   "metadata": {},
   "outputs": [],
   "source": [
    "m = Market(['LVMH'], trace=['price'], fix='S')\n",
    "m.replay('orderFileEx1.dat')\n",
    "m.print_state()"
   ]
  },
  {
   "cell_type": "markdown",
   "metadata": {},
   "source": [
    "With the short fixing, we see that 7 prices are fixed, compared to 9 for the long fixing."
   ]
  },
  {
   "cell_type": "markdown",
   "metadata": {},
   "source": [
    "### Virtuous circle\n",
    "\n",
    "We'll generate a trace with `generate', then play back the trace. We should observe that the final state of the system is identical in both cases. To make sure that `replay' does not cheat, we will only display the NewAgent and LimitOrder lines in the trace."
   ]
  },
  {
   "cell_type": "code",
   "execution_count": null,
   "metadata": {},
   "outputs": [],
   "source": [
    "file = open('trace.dat', 'w')\n",
    "m = Market(['Apple', 'Google', 'Microsoft'], out=file, trace=['newagent', 'order'])\n",
    "m.generate(2, 1000, init_assets=10, init_cash=100000)\n",
    "file.close()\n",
    "\n",
    "for t in m.traders:\n",
    "    print(t.get_infos(m))"
   ]
  },
  {
   "cell_type": "code",
   "execution_count": null,
   "metadata": {},
   "outputs": [],
   "source": [
    "m2 = Market(['Apple', 'Google', 'Microsoft'], out=None)\n",
    "m2.replay('trace.dat')\n",
    "\n",
    "for t in m2.traders:\n",
    "    print(t.get_infos(m2))"
   ]
  },
  {
   "cell_type": "markdown",
   "metadata": {},
   "source": [
    "That's what we're looking at! (Our agents just have different names.)"
   ]
  }
 ],
 "metadata": {
  "kernelspec": {
   "display_name": "Python 3",
   "language": "python",
   "name": "python3"
  },
  "language_info": {
   "codemirror_mode": {
    "name": "ipython",
    "version": 3
   },
   "file_extension": ".py",
   "mimetype": "text/x-python",
   "name": "python",
   "nbconvert_exporter": "python",
   "pygments_lexer": "ipython3",
   "version": "3.7.5"
  },
  "pycharm": {
   "stem_cell": {
    "cell_type": "raw",
    "source": [],
    "metadata": {
     "collapsed": false
    }
   }
  }
 },
 "nbformat": 4,
 "nbformat_minor": 2
}