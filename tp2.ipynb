{
 "cells": [
  {
   "cell_type": "markdown",
   "metadata": {},
   "source": [
    "# TP 2\n",
    "# Build your own simulations"
   ]
  },
  {
   "cell_type": "markdown",
   "metadata": {},
   "source": [
    "### Objectives\n",
    "\n",
    "Use ATOM as is without writing code. Manipulate / Check the\n",
    "traces\n",
    "\n",
    "Atom documentation: http://atom.univ-lille1.fr/AtomDoc.html  \n",
    "Documentation R: https://www.r-project.org/manuals.html\n",
    "\n",
    "**Previous knowledge** : Python basics\n"
   ]
  },
  {
   "cell_type": "code",
   "execution_count": 1,
   "metadata": {},
   "outputs": [],
   "source": [
    "import matplotlib.pyplot as plt\n",
    "import numpy as np\n",
    "import scipy.stats\n",
    "import random\n",
    "FILES = \"files/\"\n",
    "\n",
    "from atom import *\n",
    "from data_processing import *\n",
    "import statsmodels.tsa.stattools as stats\n",
    "plt.rcParams['figure.figsize'] = (15,10)"
   ]
  },
  {
   "cell_type": "markdown",
   "metadata": {},
   "source": [
    "## 1 Rewrite a Generate equivalent\n",
    "\n",
    "_not equivalent to Java_\n",
    "\n"
   ]
  },
  {
   "cell_type": "markdown",
   "metadata": {},
   "source": [
    "## 2 More advanced ZITs\n",
    "\n",
    "By default, the ZITs decide randomly whether to deposit an Ask or Bid order randomly. It is nevertheless possible to pass\n",
    "in parameter the two probabilities to send a Bid or an ask :\n",
    "\n",
    "`t = ZITTrader(m, q_min=1,q_max=10,p_min=100, p_max=999, pb_ask=0.2, pb_bid=0.3)`\n",
    "\n",
    "creates an agent who only speaks with 50% of the time, and who, when he speaks, decides to send more BIDs (30%) than\n",
    "of ASK (20%), on a quantity between 1 and 10 and a price between 100 and 999."
   ]
  },
  {
   "cell_type": "markdown",
   "metadata": {},
   "source": [
    "**1. Create an Imbalance market that invokes only 2 agents, one with 20% and 30% (resp Ask and Bid) and\n",
    "the other with 40% and 50% (resp Ask and Bid), over a continuous period of 1000 rounds of speech.**"
   ]
  },
  {
   "cell_type": "code",
   "execution_count": 2,
   "metadata": {},
   "outputs": [],
   "source": [
    "file = open('trace.dat', 'w')\n",
    "m = Market(['Apple'],out=file)\n",
    "t1 = ZITTrader(m, p_min=100, p_max=999, pb_ask=0.2, pb_bid=0.3)\n",
    "t2 = ZITTrader(m, p_min=100, p_max=999, pb_ask=0.4, pb_bid=0.5)\n",
    "m.add_trader(t1)\n",
    "m.add_trader(t2)\n",
    "for i in range(1000):\n",
    "    m.run_once()\n",
    "m.print_state()\n",
    "\n",
    "traders_id = []\n",
    "for trader in m.traders:\n",
    "    traders_id.append(trader.trader_id)\n",
    "    \n",
    "file.close()"
   ]
  },
  {
   "cell_type": "markdown",
   "metadata": {},
   "source": [
    "**2. How to check the initial statistics in the result file? **"
   ]
  },
  {
   "cell_type": "code",
   "execution_count": 3,
   "metadata": {},
   "outputs": [
    {
     "name": "stdout",
     "output_type": "stream",
     "text": [
      "Agent ZIT 1 a envoyé 493 ordres soit sur 49.3% des ticks\n",
      "composés de 227 asks (sur 22.7% des ticks) et 266 (26.6% des ticks) bids\n"
     ]
    }
   ],
   "source": [
    "zit1 = \"ZIT \"+str(traders_id[0])\n",
    "file = open('trace.dat','r')\n",
    "line = file.readline()\n",
    "tot=0\n",
    "bid=0\n",
    "ask=0\n",
    "while(line!=\"\"):\n",
    "    if (\"LimitOrder;Apple;\"+zit1 in line and line[0]!='#'):\n",
    "        if (line.split(\";\")[3])==\"BID\":\n",
    "            bid+=1\n",
    "        else:\n",
    "            ask+=1\n",
    "        tot+=1\n",
    "    line = file.readline()\n",
    "print(\"Agent {} sent {} orders on {}% of the ticks\".format(zit1,tot,tot/10))\n",
    "print(\"composed of {} asks (on {}% of ticks) and {} ({}% of ticks) bids\".format(ask,ask/10,bid,bid/10))"
   ]
  },
  {
   "cell_type": "markdown",
   "metadata": {},
   "source": [
    "## 3 Speed tests\n",
    "\n"
   ]
  },
  {
   "cell_type": "markdown",
   "metadata": {},
   "source": [
    "**1. Create a market simulation with a single asset and 1000 ZIT agents, which performs 1000 rounds of speech (thus 1\n",
    "million orders executed by the market).**  \n",
    "_100 million = bcp too long in python_."
   ]
  },
  {
   "cell_type": "code",
   "execution_count": 4,
   "metadata": {},
   "outputs": [
    {
     "name": "stdout",
     "output_type": "stream",
     "text": [
      "0 s\n"
     ]
    }
   ],
   "source": [
    "import time\n",
    "t = time.time()\n",
    "m = Market(['Apple'],trace=\"\")\n",
    "#m.generate(1000, 1000)\n",
    "print(int((time.time()-t)),\"s\")"
   ]
  },
  {
   "cell_type": "markdown",
   "metadata": {},
   "source": [
    "## 4 Difficulty not to ruin oneself\n",
    "\n",
    "The ModerateAgent is a ZIT that waits for the full execution of the sent order before sending a new one.\n",
    "The IntelligentAgent is a ModerateAgent who, in addition, always checks that he has enough cash not to go into\n",
    "negative values.  \n"
   ]
  },
  {
   "cell_type": "markdown",
   "metadata": {},
   "source": [
    "**1. Launch a market that checks the ModerateAgent is working properly: it will contain 1 Moderate\n",
    "and 10 ZITs that run for 1000 rounds of speech.  \n",
    "At the end of the simulation , we will display its cash, its investments and the valuation of its final portfolio. Check in the execution trace that the Moderate agent is working properly."
   ]
  },
  {
   "cell_type": "code",
   "execution_count": 5,
   "metadata": {},
   "outputs": [],
   "source": [
    "class ModerateTrader(Trader):\n",
    "    def __init__(self, market, initial_assets=None, cash=0):\n",
    "        Trader.__init__(self, market, initial_assets, cash)\n",
    "    def __str__(self):\n",
    "        return \"MOD \" + super().__str__()\n",
    "    def decide_order(self, market, asset):\n",
    "        # We're counting the number of orders placed in the orderbooks by this agent \n",
    "        nb_placed_orders = sum(len([o for o in market.orderbooks[asset2].asks.tree+market.orderbooks[asset2].bids.tree if o.source == self]) for asset2 in market.orderbooks.keys())\n",
    "        if nb_placed_orders == 0:\n",
    "            direction = random.choice(['ASK', 'BID'])\n",
    "            if direction == 'ASK':\n",
    "                return LimitOrder(asset, self, 'ASK', random.randint(1000, 9999), random.randint(1, 9))\n",
    "            elif direction == 'BID':\n",
    "                price = random.randint(1000, 9999)\n",
    "                # We don't place a BID for a volume of assets with a total value > to the cash we have.\n",
    "                return LimitOrder(asset, self, 'BID', price, random.randint(1, 9))\n",
    "        return None # In all other cases, we don't place an order "
   ]
  },
  {
   "cell_type": "code",
   "execution_count": 6,
   "metadata": {},
   "outputs": [
    {
     "data": {
      "image/png": "[encoded data removed]",
      "text/plain": [
       "<matplotlib.figure.Figure at 0x7fd258a394e0>"
      ]
     },
     "metadata": {
      "needs_background": "light"
     },
     "output_type": "display_data"
    },
    {
     "name": "stdout",
     "output_type": "stream",
     "text": [
      "Avec 10000  de cash au départ\n",
      "Wealth : 3494 (peut être négatif)\n",
      "Profit : -6506\n"
     ]
    }
   ],
   "source": [
    "file = open('trace_moderate.dat', 'w')\n",
    "m = Market(['Apple'],out=file)\n",
    "cash = 10000\n",
    "moderate = ModerateTrader(m,cash=cash) # Must have cash at the start\n",
    "m.add_trader(moderate)\n",
    "\n",
    "for i in range(10):\n",
    "    t = ZITTrader(m,cash=cash)\n",
    "    m.add_trader(t)\n",
    "\n",
    "for i in range(1000):\n",
    "    m.run_once()\n",
    "m.print_state()   \n",
    "file.close()\n",
    "\n",
    "Wealths = extract_wealths('trace_moderate.dat')\n",
    "for agent in Wealths.keys():\n",
    "    if \"MOD\" in agent:\n",
    "        magent = agent\n",
    "T, W = Wealths[magent]\n",
    "plt.plot(W, '-', label=magent)\n",
    "plt.legend(loc='best')\n",
    "plt.grid()\n",
    "plt.xlabel('Time')\n",
    "plt.ylabel('Wealth')\n",
    "plt.show()\n",
    "print(\"With\",cash,\" of cash at the start\")\n",
    "print(\"Wealth :\",W[-1],\"(can be negative)\")\n",
    "print(\"Profit :\",W[-1]-cash)"
   ]
  },
  {
   "cell_type": "markdown",
   "metadata": {},
   "source": [
    "**2. Launch a market that verifies the proper functioning of the IntelligentAgent: it will contain\n",
    "1 Intelligent and 10 ZIT that run for 1000 rounds of speech. At the end of the simulation, you will display its cash, its investments and the\n",
    "valuation of its final portfolio. Check in the execution trace the correct operation of the Intelligent Agent**."
   ]
  },
  {
   "cell_type": "code",
   "execution_count": 7,
   "metadata": {},
   "outputs": [],
   "source": [
    "class IntelligentTrader(Trader):\n",
    "    def __init__(self, market, initial_assets=None, cash=0):\n",
    "        Trader.__init__(self, market, initial_assets, cash)\n",
    "    def __str__(self):\n",
    "        return \"INT \" + super().__str__()\n",
    "    def decide_order(self, market, asset):\n",
    "        # We're counting the number of orders placed in the orderbooks by this agent \n",
    "        nb_placed_orders = sum(len([o for o in market.orderbooks[asset2].asks.tree+market.orderbooks[asset2].bids.tree if o.source == self]) for asset2 in market.orderbooks.keys())\n",
    "        if nb_placed_orders == 0:\n",
    "            direction = random.choice(['ASK', 'BID'])\n",
    "            if direction == 'ASK' and self.assets[asset] > 0: # If we have quantity > 0 of shares for this asset... \n",
    "                # You don't sell an amount of stock > to the one you have.\n",
    "                return LimitOrder(asset, self, 'ASK', random.randint(1000, 9999), random.randint(1, min(self.assets[asset], 9)))\n",
    "            elif direction == 'BID' and self.cash >= 1000: # To buy, you need money... \n",
    "                price = random.randint(1000, min(self.cash, 9999))\n",
    "                # We don't place a BID for a volume of assets with a total value > to the cash we have.\n",
    "                return LimitOrder(asset, self, 'BID', price, random.randint(1, min(self.cash//price, 9)))\n",
    "        return None # In all other cases, we don't place an order"
   ]
  },
  {
   "cell_type": "code",
   "execution_count": 8,
   "metadata": {
    "scrolled": true
   },
   "outputs": [
    {
     "data": {
      "image/png": "[encoded data removed]",
      "text/plain": [
       "<matplotlib.figure.Figure at 0x7fd258ac00f0>"
      ]
     },
     "metadata": {
      "needs_background": "light"
     },
     "output_type": "display_data"
    },
    {
     "name": "stdout",
     "output_type": "stream",
     "text": [
      "Avec 10000  de cash au départ\n",
      "Wealth : 10000 (ne peut être négatif)\n",
      "Profit : 0\n"
     ]
    }
   ],
   "source": [
    "file = open('trace_intelligent.dat', 'w')\n",
    "m = Market(['Apple'],out=file)\n",
    "cash = 10000\n",
    "intelligent = IntelligentTrader(m,cash=cash) # Must have cash at the start\n",
    "m.add_trader(intelligent)\n",
    "\n",
    "for i in range(10):\n",
    "    t = ZITTrader(m,cash=cash)\n",
    "    m.add_trader(t)\n",
    "\n",
    "for i in range(1000):\n",
    "    m.run_once()\n",
    "m.print_state()   \n",
    "file.close()\n",
    "\n",
    "Wealths = extract_wealths('trace_intelligent.dat')\n",
    "for agent in Wealths.keys():\n",
    "    if \"INT\" in agent:\n",
    "        iagent = agent\n",
    "T, W = Wealths[iagent]\n",
    "plt.plot(W, '-', label=iagent)\n",
    "plt.legend(loc='best')\n",
    "plt.grid()\n",
    "plt.xlabel('Time')\n",
    "plt.ylabel('Wealth')\n",
    "plt.show()\n",
    "print(\"With\",cash,\" of cash at the start\")\n",
    "print(\"Wealth :\",W[-1],\"(can be negative)\")\n",
    "print(\"Profit :\",W[-1]-cash)"
   ]
  },
  {
   "cell_type": "code",
   "execution_count": 9,
   "metadata": {},
   "outputs": [
    {
     "data": {
      "image/png": "[encoded data removed]",
      "text/plain": [
       "<matplotlib.figure.Figure at 0x7fd258a56198>"
      ]
     },
     "metadata": {
      "needs_background": "light"
     },
     "output_type": "display_data"
    },
    {
     "name": "stdout",
     "output_type": "stream",
     "text": [
      "Tout est bloqué très rapidement. Chacun attend que son ordre soit exécuté -> deadlock\n"
     ]
    }
   ],
   "source": [
    "file = open('trace_all_intelligent.dat', 'w')\n",
    "m = Market(['Apple'],out=file)\n",
    "cash = 1000000\n",
    "for i in range(5):\n",
    "    t = IntelligentTrader(m,initial_assets=[1000],cash=cash)\n",
    "    m.add_trader(t)\n",
    "\n",
    "for i in range(1000):\n",
    "    m.run_once()\n",
    "m.print_state()   \n",
    "file.close()\n",
    "\n",
    "Wealths = extract_wealths('trace_all_intelligent.dat')\n",
    "for agent in Wealths.keys():\n",
    "    T, W = Wealths[agent]\n",
    "    plt.plot(W, '-', label=agent)\n",
    "plt.legend(loc='best')\n",
    "plt.grid()\n",
    "plt.xlabel('Time')\n",
    "plt.ylabel('Wealth')\n",
    "plt.show()\n",
    "\n",
    "print(\"Everything got stuck very quickly. Everyone waits for his order to be executed -> deadlock\")"
   ]
  }
 ],
 "metadata": {
  "kernelspec": {
   "display_name": "Python 3",
   "language": "python",
   "name": "python3"
  },
  "language_info": {
   "codemirror_mode": {
    "name": "ipython",
    "version": 3
   },
   "file_extension": ".py",
   "mimetype": "text/x-python",
   "name": "python",
   "nbconvert_exporter": "python",
   "pygments_lexer": "ipython3",
   "version": "3.6.8"
  },
  "pycharm": {
   "stem_cell": {
    "cell_type": "raw",
    "source": [],
    "metadata": {
     "collapsed": false
    }
   }
  }
 },
 "nbformat": 4,
 "nbformat_minor": 2
}